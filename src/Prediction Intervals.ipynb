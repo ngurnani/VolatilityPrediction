{
 "cells": [
  {
   "cell_type": "markdown",
   "metadata": {},
   "source": [
    "# Prediction Intervals\n",
    "\n",
    "Contains prediction intervals for all volatility forecasting methods (GARCH, NoVaS)"
   ]
  },
  {
   "cell_type": "code",
   "execution_count": 27,
   "metadata": {},
   "outputs": [],
   "source": [
    "%matplotlib inline\n",
    "import numpy as np\n",
    "import pandas as pd\n",
    "import math\n",
    "import matplotlib.pyplot as plt\n",
    "import scipy.stats as stats\n",
    "from scipy.stats import kurtosis\n",
    "from novas import *\n",
    "from sklearn.utils import resample"
   ]
  },
  {
   "cell_type": "code",
   "execution_count": 28,
   "metadata": {},
   "outputs": [],
   "source": [
    "# data read in, adjustment and conversion to returns\n",
    "sp500_data = pd.read_csv(\"./data/sp500index.csv\")\n",
    "sp500_data.index = sp500_data[\"Date\"].astype('datetime64[ns]')\n",
    "sp500_data.drop(columns=['Date'],inplace=True)\n",
    "\n",
    "# convert to returns and normalize returns\n",
    "sp500_returns = sp500_data['Close'].pct_change()[1:]\n",
    "sp500_returns = (sp500_returns - np.mean(sp500_returns))/np.std(sp500_returns) # normalize to have mean 0 std 1"
   ]
  },
  {
   "cell_type": "markdown",
   "metadata": {},
   "source": [
    "The basic Model-free (MF) bootstrap algorithm for prediction intervals in the setting of financial returns goes as follows:\n",
    "\n",
    "#### 1. Use simple NoVaS to obtain transformed data $\\{W_{t,a}$ for $t=p+1,\\dots,n \\}$ that are assumed to be approximately i.i.d. Let $p, \\alpha$ and $a_i$ denote the fitted NoVaS parameters."
   ]
  },
  {
   "cell_type": "code",
   "execution_count": 29,
   "metadata": {},
   "outputs": [],
   "source": [
    "n = len(sp500_returns)\n",
    "p = 16"
   ]
  },
  {
   "cell_type": "code",
   "execution_count": 30,
   "metadata": {},
   "outputs": [
    {
     "data": {
      "text/plain": [
       "3.0215729106043225"
      ]
     },
     "execution_count": 30,
     "metadata": {},
     "output_type": "execute_result"
    }
   ],
   "source": [
    "W_t = simple_novas(sp500_returns, p)\n",
    "kurtosis(W_t, fisher=False)"
   ]
  },
  {
   "cell_type": "markdown",
   "metadata": {},
   "source": [
    "#### 2. Calculate $\\widehat{g(Y_{n+1})}$ the point predictor of $g(y_{n+1})$ as the median of the set etc."
   ]
  },
  {
   "cell_type": "code",
   "execution_count": 31,
   "metadata": {},
   "outputs": [
    {
     "name": "stdout",
     "output_type": "stream",
     "text": [
      "0.2477919538534975\n"
     ]
    }
   ],
   "source": [
    "point_prediction = simple_novas_prediction(sp500_returns, 16)\n",
    "print(point_prediction)"
   ]
  },
  {
   "cell_type": "markdown",
   "metadata": {},
   "source": [
    "#### 3. Main bootstrap loop"
   ]
  },
  {
   "cell_type": "markdown",
   "metadata": {},
   "source": [
    "#### a.) Resample randomly (with replacement) the transformed variables  $\\{W_{t,a}$ for $t=p+1,\\dots,n \\}$ to create the pseudo-data $W_{p+1}^*,\\dots, W_{n-1}^*, W_{n}^*$ and $W_{n+1}^*$"
   ]
  },
  {
   "cell_type": "code",
   "execution_count": 32,
   "metadata": {},
   "outputs": [],
   "source": [
    "resampled_W_t = resample(W_t, replace=True, n_samples = len(W_t) + 1)\n",
    "resampled_W_t.sort_index(inplace=True)"
   ]
  },
  {
   "cell_type": "markdown",
   "metadata": {},
   "source": [
    "#### b.) Let $(Y_{1}^*,\\dots,Y_{p}^*)' = (Y_{1+I}^*,\\dots,Y_{p+I}^*)'$ where I is generated as a discrete random variable uniform on the values $0,1,\\dots,n-p$"
   ]
  },
  {
   "cell_type": "code",
   "execution_count": 34,
   "metadata": {},
   "outputs": [
    {
     "data": {
      "text/plain": [
       "Date\n",
       "1950-01-04    13998.149954\n",
       "1950-01-05    13997.457921\n",
       "1950-01-06    13997.271373\n",
       "1950-01-09    13997.576591\n",
       "1950-01-10    13996.660024\n",
       "1950-01-11    13997.330609\n",
       "1950-01-12    13994.956948\n",
       "1950-01-13    13996.406095\n",
       "1950-01-16    13997.276156\n",
       "1950-01-17    13997.834830\n",
       "1950-01-18    13996.902681\n",
       "1950-01-19    13997.087747\n",
       "1950-01-20    13997.149212\n",
       "1950-01-23    13997.087376\n",
       "1950-01-24    13996.595705\n",
       "1950-01-25    13996.224420\n",
       "Name: Close, dtype: float64"
      ]
     },
     "execution_count": 34,
     "metadata": {},
     "output_type": "execute_result"
    }
   ],
   "source": [
    "from copy import deepcopy\n",
    "y_star = deepcopy(sp500_returns) # ensure that the original sp500_returns data is unchanged\n",
    "I = np.random.randint(0,n-p)\n",
    "y_star[0:p] = y_star[0:p] + I\n",
    "y_star[0:p]"
   ]
  },
  {
   "cell_type": "markdown",
   "metadata": {},
   "source": [
    "#### c.) Generate the bootstrap pseudo-data $Y_{t}^*$ for $t=p+1,\\dots,n$ using equation (10.17)"
   ]
  },
  {
   "cell_type": "code",
   "execution_count": null,
   "metadata": {},
   "outputs": [],
   "source": []
  }
 ],
 "metadata": {
  "kernelspec": {
   "display_name": "Python 3",
   "language": "python",
   "name": "python3"
  },
  "language_info": {
   "codemirror_mode": {
    "name": "ipython",
    "version": 3
   },
   "file_extension": ".py",
   "mimetype": "text/x-python",
   "name": "python",
   "nbconvert_exporter": "python",
   "pygments_lexer": "ipython3",
   "version": "3.6.4"
  }
 },
 "nbformat": 4,
 "nbformat_minor": 2
}
