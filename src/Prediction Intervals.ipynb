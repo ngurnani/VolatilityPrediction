{
 "cells": [
  {
   "cell_type": "markdown",
   "metadata": {},
   "source": [
    "# Prediction Intervals\n",
    "\n",
    "Contains prediction intervals for all volatility forecasting methods (GARCH, NoVaS)"
   ]
  },
  {
   "cell_type": "code",
   "execution_count": 1,
   "metadata": {},
   "outputs": [],
   "source": [
    "%matplotlib inline\n",
    "import numpy as np\n",
    "import pandas as pd\n",
    "import math\n",
    "import matplotlib.pyplot as plt\n",
    "import scipy.stats as stats\n",
    "from scipy.stats import kurtosis\n",
    "from novas import *\n",
    "from sklearn.utils import resample"
   ]
  },
  {
   "cell_type": "code",
   "execution_count": 2,
   "metadata": {},
   "outputs": [],
   "source": [
    "# data read in, adjustment and conversion to returns\n",
    "sp500_data = pd.read_csv(\"./data/sp500index.csv\")\n",
    "sp500_data.index = sp500_data[\"Date\"].astype('datetime64[ns]')\n",
    "sp500_data.drop(columns=['Date'],inplace=True)\n",
    "\n",
    "# convert to returns and normalize returns\n",
    "sp500_returns = sp500_data['Close'].pct_change()[1:]\n",
    "sp500_returns = (sp500_returns - np.mean(sp500_returns))/np.std(sp500_returns) # normalize to have mean 0 std 1"
   ]
  },
  {
   "cell_type": "markdown",
   "metadata": {},
   "source": [
    "The basic Model-free (MF) bootstrap algorithm for prediction intervals in the setting of financial returns goes as follows:\n",
    "\n",
    "#### 1. Use simple NoVaS to obtain transformed data $\\{W_{t,a}$ for $t=p+1,\\dots,n \\}$ that are assumed to be approximately i.i.d. Let $p, \\alpha$ and $a_i$ denote the fitted NoVaS parameters."
   ]
  },
  {
   "cell_type": "code",
   "execution_count": 3,
   "metadata": {},
   "outputs": [],
   "source": [
    "n = len(sp500_returns)\n",
    "p = 16"
   ]
  },
  {
   "cell_type": "code",
   "execution_count": 4,
   "metadata": {},
   "outputs": [
    {
     "data": {
      "text/plain": [
       "3.0215729106043225"
      ]
     },
     "execution_count": 4,
     "metadata": {},
     "output_type": "execute_result"
    }
   ],
   "source": [
    "W_t = simple_novas(sp500_returns, p)\n",
    "kurtosis(W_t, fisher=False)"
   ]
  },
  {
   "cell_type": "markdown",
   "metadata": {},
   "source": [
    "#### 2. Calculate $\\widehat{g(Y_{n+1})}$ the point predictor of $g(y_{n+1})$ as the median of the set etc."
   ]
  },
  {
   "cell_type": "code",
   "execution_count": 5,
   "metadata": {},
   "outputs": [
    {
     "name": "stdout",
     "output_type": "stream",
     "text": [
      "0.2477919538534975\n"
     ]
    }
   ],
   "source": [
    "point_prediction = simple_novas_prediction(sp500_returns, 16)\n",
    "print(point_prediction)"
   ]
  },
  {
   "cell_type": "markdown",
   "metadata": {},
   "source": [
    "#### 3. Main bootstrap loop"
   ]
  },
  {
   "cell_type": "markdown",
   "metadata": {},
   "source": [
    "#### a.) Resample randomly (with replacement) the transformed variables  $\\{W_{t,a}$ for $t=p+1,\\dots,n \\}$ to create the pseudo-data $W_{p+1}^*,\\dots, W_{n-1}^*, W_{n}^*$ and $W_{n+1}^*$"
   ]
  },
  {
   "cell_type": "code",
   "execution_count": 6,
   "metadata": {},
   "outputs": [],
   "source": [
    "resampled_W_t = resample(W_t, replace=True, n_samples = len(W_t) + 1)\n",
    "resampled_W_t.sort_index(inplace=True)"
   ]
  },
  {
   "cell_type": "markdown",
   "metadata": {},
   "source": [
    "#### b.) Let $(Y_{1}^*,\\dots,Y_{p}^*)' = (Y_{1+I}^*,\\dots,Y_{p+I}^*)'$ where I is generated as a discrete random variable uniform on the values $0,1,\\dots,n-p$"
   ]
  },
  {
   "cell_type": "code",
   "execution_count": 7,
   "metadata": {},
   "outputs": [
    {
     "data": {
      "text/plain": [
       "Date\n",
       "1950-01-04    4878.149954\n",
       "1950-01-05    4877.457921\n",
       "1950-01-06    4877.271373\n",
       "1950-01-09    4877.576591\n",
       "1950-01-10    4876.660024\n",
       "1950-01-11    4877.330609\n",
       "1950-01-12    4874.956948\n",
       "1950-01-13    4876.406095\n",
       "1950-01-16    4877.276156\n",
       "1950-01-17    4877.834830\n",
       "1950-01-18    4876.902681\n",
       "1950-01-19    4877.087747\n",
       "1950-01-20    4877.149212\n",
       "1950-01-23    4877.087376\n",
       "1950-01-24    4876.595705\n",
       "1950-01-25    4876.224420\n",
       "Name: Close, dtype: float64"
      ]
     },
     "execution_count": 7,
     "metadata": {},
     "output_type": "execute_result"
    }
   ],
   "source": [
    "from copy import deepcopy\n",
    "y_star = deepcopy(sp500_returns) # ensure that the original sp500_returns data is unchanged\n",
    "I = np.random.randint(0,n-p)\n",
    "y_star[0:p] = y_star[0:p] + I\n",
    "y_star[0:p]"
   ]
  },
  {
   "cell_type": "markdown",
   "metadata": {},
   "source": [
    "#### c.) Generate the bootstrap pseudo-data $Y_{t}^*$ for $t=p+1,\\dots,n$ using equation (10.17) $$ Y_{t}^* = \\frac{W_{t}}{\\sqrt{1-a_0W_{t}^{*2}}}\\sqrt{\\sum_{i=1}^{p} a_iY_{t-i}^{*2}}$$ for $t=p+1,\\dots,n$"
   ]
  },
  {
   "cell_type": "code",
   "execution_count": 19,
   "metadata": {},
   "outputs": [],
   "source": [
    "def generated_novas_psuedo_data(W_t,y_star, p):\n",
    "    \"\"\"Generates simple novas bootstrap psuedo-data for t=p+1,...,n using eq. (10.17)\"\"\"\n",
    "    \n",
    "    # W_t term of eq. (10.17)\n",
    "    \n",
    "    a0 = 1/p\n",
    "    frac_num = W_t\n",
    "    frac_den = np.sqrt(1+a0*(W_t**2))\n",
    "    first_term = frac_num/frac_den\n",
    "    \n",
    "    # A_n term of eq. (10.17)\n",
    "    lagged_squared_returns = pd.Series(np.zeros(len(y_star))) \n",
    "    for i in range(p):\n",
    "        lagged_squared_returns = lagged_squared_returns + (y_star**2).shift(-i)\n",
    "        \n",
    "    An = (lagged_squared_returns/p)\n",
    "    An = pd.rolling_sum(An, window=p)\n",
    "    An = np.sqrt(An)\n",
    "    y_star = first_term*An\n",
    "    return y_star"
   ]
  },
  {
   "cell_type": "markdown",
   "metadata": {},
   "source": [
    "#### d.) Based on the bootstrap data $Y_{1}^*,\\dots,Y_{n}^*$ re-estimate the NoVaS transformation, then calculate the bootstrap predictor $\\widehat{g(Y_{n+1}^*)}$ as the median of the set"
   ]
  },
  {
   "cell_type": "code",
   "execution_count": 36,
   "metadata": {},
   "outputs": [
    {
     "name": "stdout",
     "output_type": "stream",
     "text": [
      "0.25851403383684984\n"
     ]
    }
   ],
   "source": [
    "temp = simple_novas(y_star[:n-1],16)\n",
    "kurtosis(temp, fisher=False)\n",
    "temp_predict = simple_novas_prediction(y_star[:n-1],16)\n",
    "print(temp_predict)"
   ]
  },
  {
   "cell_type": "markdown",
   "metadata": {},
   "source": [
    "#### e.) Calculate the bootstrap future value $Y_{n+1}^*$"
   ]
  },
  {
   "cell_type": "code",
   "execution_count": 37,
   "metadata": {},
   "outputs": [
    {
     "data": {
      "text/plain": [
       "0.14186746104345338"
      ]
     },
     "execution_count": 37,
     "metadata": {},
     "output_type": "execute_result"
    }
   ],
   "source": [
    "y_star[-1]"
   ]
  },
  {
   "cell_type": "markdown",
   "metadata": {},
   "source": [
    "#### f.) Calculate the bootstrap root: $g(Y_{n+1}^*) - \\widehat{g(Y_{n+1}^*)}$"
   ]
  },
  {
   "cell_type": "code",
   "execution_count": 39,
   "metadata": {},
   "outputs": [
    {
     "name": "stdout",
     "output_type": "stream",
     "text": [
      "-0.01072207998335234\n"
     ]
    }
   ],
   "source": [
    "bootstrap_root = point_prediction - temp_predict\n",
    "print(bootstrap_root)"
   ]
  },
  {
   "cell_type": "markdown",
   "metadata": {},
   "source": [
    "#### 4. Repeat step 3 above B timesl the B bootstrap root replicates are collected in the form of an empirical distribution whose $\\alpha$-quantile is denoted $q(\\alpha)$"
   ]
  },
  {
   "cell_type": "markdown",
   "metadata": {},
   "source": [
    "#### 5. The $(1-\\alpha)100\\%$ equal-tailed prediction interval for $g(Y_{n+1})$ is given by $$ [\\widehat{g(Y_{n+1})} + q(\\alpha/2), \\widehat{g(Y_{n+1})} + q(1-\\alpha/2)] $$"
   ]
  },
  {
   "cell_type": "code",
   "execution_count": null,
   "metadata": {},
   "outputs": [],
   "source": []
  }
 ],
 "metadata": {
  "kernelspec": {
   "display_name": "Python 3",
   "language": "python",
   "name": "python3"
  },
  "language_info": {
   "codemirror_mode": {
    "name": "ipython",
    "version": 3
   },
   "file_extension": ".py",
   "mimetype": "text/x-python",
   "name": "python",
   "nbconvert_exporter": "python",
   "pygments_lexer": "ipython3",
   "version": "3.6.4"
  }
 },
 "nbformat": 4,
 "nbformat_minor": 2
}
