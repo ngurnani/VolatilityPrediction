{
 "cells": [
  {
   "cell_type": "markdown",
   "metadata": {},
   "source": [
    "# NoVaS\n",
    "\n",
    "This notebook contains the results of voltality forecasting with the NoVaS transformation (see Politis 2007)on S&P500 returns.\n",
    "\n",
    "Need to implement:\n",
    "- Simple NoVaS\n",
    "- Exponential NoVaS\n",
    "\n"
   ]
  },
  {
   "cell_type": "markdown",
   "metadata": {},
   "source": [
    "Regular ARCH model is expressed as $\\frac{X_t}{\\sqrt{a + \\sum_{i=1}^{p} a_i X^{2}_{t-i}}}$"
   ]
  },
  {
   "cell_type": "markdown",
   "metadata": {},
   "source": [
    "NoVaS is a slight improvement where we include the value of $X_t$ from an empirical causal estimate of the standard deviation of $X_t$. Hence, we may define the new \"studentized\" quantity as \n",
    "\n",
    "$$ W_{t,a} = \\frac{X_t}{\\sqrt{\\alpha s^2_{t-1} + a_0 X^2_{t} + \\sum_{i=1}^{p} a_i X^2_{t-i}}} $$"
   ]
  },
  {
   "cell_type": "markdown",
   "metadata": {},
   "source": [
    "Algorithm for Simple NoVaS:\n",
    "\n",
    "- Let $\\alpha=0$ and $a_i = \\frac{1}{p+1}$ for all $ 0 \\leq i \\leq p$\n",
    "- Pick $p$ such that $|KURT_{n}(W_{t,p}^{S}) - 3 |$ is minimized"
   ]
  },
  {
   "cell_type": "markdown",
   "metadata": {},
   "source": [
    "Algorithm for Exponential NoVaS:\n",
    "\n",
    "- Let p take a very high starting value, for example, let $p \\approx \\frac{n}{4}$ or $\\frac{n}{5}$\n",
    "- Let $\\alpha = 0$ and $ a_i = c'e^{-ci}$ for all $0 \\leq i \\leq p$, where $ c' = \\frac{1}{\\sum_{i=0}^{p} e^{-ci}}$\n",
    "- Pick c in such a way that $|KURT_{n}(W_{t,c}^{E}) - 3|$ is minimized"
   ]
  },
  {
   "cell_type": "code",
   "execution_count": 1,
   "metadata": {},
   "outputs": [],
   "source": [
    "%matplotlib inline\n",
    "import numpy as np\n",
    "import pandas as pd\n",
    "import math\n",
    "import matplotlib.pyplot as plt\n",
    "from scipy.stats import kurtosis"
   ]
  },
  {
   "cell_type": "code",
   "execution_count": 2,
   "metadata": {},
   "outputs": [],
   "source": [
    "# data read in, adjustment and conversion to returns\n",
    "sp500_data = pd.read_csv(\"./data/sp500index.csv\")\n",
    "sp500_data.index = sp500_data[\"Date\"].astype('datetime64[ns]')\n",
    "sp500_data.drop(columns=['Date'],inplace=True)\n",
    "sp500_data.head()\n",
    "\n",
    "# convert to returns\n",
    "sp500_returns = sp500_data['Close'].pct_change()[1:]"
   ]
  },
  {
   "cell_type": "code",
   "execution_count": 3,
   "metadata": {},
   "outputs": [
    {
     "name": "stdout",
     "output_type": "stream",
     "text": [
      "Scipy version: 23.84959871116602\n"
     ]
    }
   ],
   "source": [
    "# testing kurtosis functions\n",
    "scipy_kurtosis = kurtosis(sp500_returns, fisher=False)\n",
    "print(\"Scipy version:\", scipy_kurtosis)"
   ]
  },
  {
   "cell_type": "code",
   "execution_count": 4,
   "metadata": {},
   "outputs": [],
   "source": [
    "def kurtosis(x):\n",
    "    mm = np.nanmean(x)\n",
    "    s2 = np.nanmean((x-mm)**2)\n",
    "    kk = np.nanmean((x-mm)**4)\n",
    "    kk = kk/(s2**2)\n",
    "    return kk"
   ]
  },
  {
   "cell_type": "code",
   "execution_count": 5,
   "metadata": {},
   "outputs": [
    {
     "data": {
      "text/plain": [
       "23.84959871116602"
      ]
     },
     "execution_count": 5,
     "metadata": {},
     "output_type": "execute_result"
    }
   ],
   "source": [
    "kurtosis(sp500_returns)"
   ]
  },
  {
   "cell_type": "code",
   "execution_count": 7,
   "metadata": {},
   "outputs": [],
   "source": [
    "p = 5\n",
    "a = (np.ones(p+1))/(p+1)\n",
    "squared_returns = sp500_returns**2\n",
    "denominator_1 = a[0]*squared_returns[-1]\n",
    "denominator_2 = np.dot(a[1:], squared_returns[:-1].tail(p))\n",
    "transform = np.divide(sp500_returns, math.sqrt(denominator_1 + denominator_2))"
   ]
  },
  {
   "cell_type": "code",
   "execution_count": 8,
   "metadata": {},
   "outputs": [
    {
     "data": {
      "text/plain": [
       "20.849598711166028"
      ]
     },
     "execution_count": 8,
     "metadata": {},
     "output_type": "execute_result"
    }
   ],
   "source": [
    "kurtosis(transform)"
   ]
  },
  {
   "cell_type": "code",
   "execution_count": 6,
   "metadata": {},
   "outputs": [],
   "source": [
    "# doing simple novas transformation manually\n",
    "p = 5\n",
    "a = (np.ones(p+1))/(p+1)\n",
    "squared_returns = sp500_returns**2"
   ]
  },
  {
   "cell_type": "code",
   "execution_count": 37,
   "metadata": {},
   "outputs": [],
   "source": [
    "# simple novas adapted from R code\n",
    "n = len(sp500_returns)\n",
    "yy = np.zeros(2*p+n)\n",
    "yy[2*p:2*p+n] = sp500_returns**2\n",
    "yy = pd.Series(yy)\n",
    "kk = np.zeros(len(yy))\n",
    "kk = pd.Series(kk)"
   ]
  },
  {
   "cell_type": "code",
   "execution_count": 38,
   "metadata": {},
   "outputs": [],
   "source": [
    "for i in range(p):\n",
    "    kk = kk + (yy).shift(-i)"
   ]
  },
  {
   "cell_type": "code",
   "execution_count": 45,
   "metadata": {},
   "outputs": [],
   "source": [
    "zz = yy/np.sqrt(kk/p)\n",
    "zz = zz[2*p:2*p+n]\n",
    "zz = zz.dropna()"
   ]
  },
  {
   "cell_type": "code",
   "execution_count": 47,
   "metadata": {},
   "outputs": [
    {
     "data": {
      "text/plain": [
       "87.66552981496669"
      ]
     },
     "execution_count": 47,
     "metadata": {},
     "output_type": "execute_result"
    }
   ],
   "source": [
    "kurtosis(zz)"
   ]
  },
  {
   "cell_type": "code",
   "execution_count": 67,
   "metadata": {},
   "outputs": [],
   "source": [
    "def simple_novas(xx, p):\n",
    "    n = len(xx)\n",
    "    yy = np.zeros(2*p+n)\n",
    "    yy[2*p:2*p+n] = xx**2\n",
    "    yy = pd.Series(yy)\n",
    "    kk = np.zeros(len(yy))\n",
    "    kk = pd.Series(kk)\n",
    "    \n",
    "    for i in range(p):\n",
    "        kk = kk + (yy).shift(-i)\n",
    "    zz = yy/np.sqrt(kk/p)\n",
    "    zz = zz[2*p:2*p+n]\n",
    "    zz = zz.dropna()\n",
    "    zz.iloc[0] = np.sign(zz.iloc[0])\n",
    "    return zz"
   ]
  },
  {
   "cell_type": "code",
   "execution_count": 94,
   "metadata": {},
   "outputs": [],
   "source": [
    "temp = simple_novas(sp500_returns,12500)"
   ]
  },
  {
   "cell_type": "code",
   "execution_count": 95,
   "metadata": {},
   "outputs": [
    {
     "data": {
      "text/plain": [
       "1125.911247702131"
      ]
     },
     "execution_count": 95,
     "metadata": {},
     "output_type": "execute_result"
    }
   ],
   "source": [
    "kurtosis(temp)"
   ]
  },
  {
   "cell_type": "code",
   "execution_count": 98,
   "metadata": {},
   "outputs": [],
   "source": [
    "sp500_returns.to_csv(\"sp500returns.csv\")"
   ]
  },
  {
   "cell_type": "code",
   "execution_count": null,
   "metadata": {},
   "outputs": [],
   "source": []
  }
 ],
 "metadata": {
  "kernelspec": {
   "display_name": "Python 3",
   "language": "python",
   "name": "python3"
  },
  "language_info": {
   "codemirror_mode": {
    "name": "ipython",
    "version": 3
   },
   "file_extension": ".py",
   "mimetype": "text/x-python",
   "name": "python",
   "nbconvert_exporter": "python",
   "pygments_lexer": "ipython3",
   "version": "3.6.4"
  }
 },
 "nbformat": 4,
 "nbformat_minor": 2
}
