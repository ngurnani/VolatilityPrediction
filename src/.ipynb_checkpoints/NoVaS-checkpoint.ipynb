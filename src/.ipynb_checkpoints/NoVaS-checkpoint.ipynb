{
 "cells": [
  {
   "cell_type": "markdown",
   "metadata": {},
   "source": [
    "# NoVaS\n",
    "\n",
    "This notebook contains the results of voltality forecasting with the NoVaS transformation (see Politis 2007)on S&P500 returns.\n",
    "\n",
    "Need to implement:\n",
    "- Simple NoVaS\n",
    "- Exponential NoVaS\n",
    "\n"
   ]
  },
  {
   "cell_type": "markdown",
   "metadata": {},
   "source": [
    "Regular ARCH model is expressed as $\\frac{X_t}{\\sqrt{a + \\sum_{i=1}^{p} a_i X^{2}_{t-i}}}$"
   ]
  },
  {
   "cell_type": "markdown",
   "metadata": {},
   "source": [
    "NoVaS is a slight improvement where we include the value of $X_t$ from an empirical causal estimate of the standard deviation of $X_t$. Hence, we may define the new \"studentized\" quantity as \n",
    "\n",
    "$$ W_{t,a} = \\frac{X_t}{\\sqrt{\\alpha s^2_{t-1} + a_0 X^2_{t} + \\sum_{i=1}^{p} a_i X^2_{t-i}}} $$"
   ]
  },
  {
   "cell_type": "markdown",
   "metadata": {},
   "source": [
    "Algorithm for Simple NoVaS:\n",
    "\n",
    "- Let $\\alpha=0$ and $a_i = \\frac{1}{p+1}$ for all $ 0 \\leq i \\leq p$\n",
    "- Pick $p$ such that $|KURT_{n}(W_{t,p}^{S}) - 3 |$ is minimized"
   ]
  },
  {
   "cell_type": "markdown",
   "metadata": {},
   "source": [
    "Algorithm for Exponential NoVaS:\n",
    "\n",
    "- Let p take a very high starting value, for example, let $p \\approx \\frac{n}{4}$ or $\\frac{n}{5}$\n",
    "- Let $\\alpha = 0$ and $ a_i = c'e^{-ci}$ for all $0 \\leq i \\leq p$, where $ c' = \\frac{1}{\\sum_{i=0}^{p} e^{-ci}}$\n",
    "- Pick c in such a way that $|KURT_{n}(W_{t,c}^{E}) - 3|$ is minimized"
   ]
  },
  {
   "cell_type": "code",
   "execution_count": 1,
   "metadata": {},
   "outputs": [],
   "source": [
    "%matplotlib inline\n",
    "import numpy as np\n",
    "import pandas as pd\n",
    "import math\n",
    "import matplotlib.pyplot as plt\n",
    "from scipy.stats import kurtosis"
   ]
  },
  {
   "cell_type": "code",
   "execution_count": 2,
   "metadata": {},
   "outputs": [],
   "source": [
    "# data read in, adjustment and conversion to returns\n",
    "sp500_data = pd.read_csv(\"./data/sp500index.csv\")\n",
    "sp500_data.index = sp500_data[\"Date\"].astype('datetime64[ns]')\n",
    "sp500_data.drop(columns=['Date'],inplace=True)\n",
    "sp500_data.head()\n",
    "\n",
    "# convert to returns\n",
    "sp500_returns = sp500_data['Close'].pct_change()[1:]"
   ]
  },
  {
   "cell_type": "code",
   "execution_count": 3,
   "metadata": {},
   "outputs": [
    {
     "name": "stdout",
     "output_type": "stream",
     "text": [
      "Scipy version: 23.84959871116602\n"
     ]
    }
   ],
   "source": [
    "# testing kurtosis functions\n",
    "scipy_kurtosis = kurtosis(sp500_returns, fisher=False)\n",
    "print(\"Scipy version:\", scipy_kurtosis)"
   ]
  },
  {
   "cell_type": "code",
   "execution_count": 7,
   "metadata": {},
   "outputs": [],
   "source": [
    "p = 5\n",
    "a = (np.ones(p+1))/(p+1)\n",
    "squared_returns = sp500_returns**2\n",
    "denominator_1 = a[0]*squared_returns[-1]\n",
    "denominator_2 = np.dot(a[1:], squared_returns[:-1].tail(p))\n",
    "transform = np.divide(sp500_returns, math.sqrt(denominator_1 + denominator_2))"
   ]
  },
  {
   "cell_type": "code",
   "execution_count": 8,
   "metadata": {},
   "outputs": [
    {
     "data": {
      "text/plain": [
       "20.849598711166028"
      ]
     },
     "execution_count": 8,
     "metadata": {},
     "output_type": "execute_result"
    }
   ],
   "source": [
    "kurtosis(transform)"
   ]
  },
  {
   "cell_type": "code",
   "execution_count": 6,
   "metadata": {},
   "outputs": [],
   "source": [
    "# doing simple novas transformation manually\n",
    "p = 5\n",
    "a = (np.ones(p+1))/(p+1)\n",
    "squared_returns = sp500_returns**2"
   ]
  },
  {
   "cell_type": "code",
   "execution_count": 7,
   "metadata": {},
   "outputs": [
    {
     "data": {
      "text/plain": [
       "Date\n",
       "1950-01-04    1.300640e-04\n",
       "1950-01-05    2.254136e-05\n",
       "1950-01-06    8.722201e-06\n",
       "1950-01-09    3.468364e-05\n",
       "1950-01-10    8.569331e-06\n",
       "1950-01-11    1.241248e-05\n",
       "1950-01-12    3.728582e-04\n",
       "1950-01-13    2.883613e-05\n",
       "1950-01-16    8.996041e-06\n",
       "1950-01-17    7.011259e-05\n",
       "1950-01-18    3.518614e-07\n",
       "1950-01-19    1.408976e-06\n",
       "1950-01-20    3.162156e-06\n",
       "1950-01-23    1.400511e-06\n",
       "1950-01-24    1.257440e-05\n",
       "1950-01-25    5.065876e-05\n",
       "1950-01-26    3.568528e-07\n",
       "1950-01-27    2.893964e-05\n",
       "1950-01-30    1.413865e-04\n",
       "1950-01-31    3.106665e-06\n",
       "1950-02-01    0.000000e+00\n",
       "1950-02-02    1.114554e-04\n",
       "1950-02-03    1.212681e-05\n",
       "1950-02-06    3.010395e-06\n",
       "1950-02-07    2.700158e-05\n",
       "1950-02-08    1.347513e-06\n",
       "1950-02-09    1.654471e-05\n",
       "1950-02-10    5.358635e-06\n",
       "1950-02-14    1.090123e-04\n",
       "1950-02-15    0.000000e+00\n",
       "                  ...     \n",
       "2018-04-02    4.989605e-04\n",
       "2018-04-03    1.591348e-04\n",
       "2018-04-04    1.337835e-04\n",
       "2018-04-05    4.709890e-05\n",
       "2018-04-06    4.804973e-04\n",
       "2018-04-09    1.113256e-05\n",
       "2018-04-10    2.797910e-04\n",
       "2018-04-11    3.052965e-05\n",
       "2018-04-12    6.807488e-05\n",
       "2018-04-13    8.332606e-06\n",
       "2018-04-16    6.575650e-05\n",
       "2018-04-17    1.136677e-04\n",
       "2018-04-18    6.911691e-07\n",
       "2018-04-19    3.278850e-05\n",
       "2018-04-20    7.287238e-05\n",
       "2018-04-23    3.161983e-09\n",
       "2018-04-24    1.790394e-04\n",
       "2018-04-25    3.374787e-06\n",
       "2018-04-26    1.088726e-04\n",
       "2018-04-27    1.240161e-06\n",
       "2018-04-30    6.703501e-05\n",
       "2018-05-01    6.497633e-06\n",
       "2018-05-02    5.192447e-05\n",
       "2018-05-03    5.079049e-06\n",
       "2018-05-04    1.641263e-04\n",
       "2018-05-07    1.195739e-05\n",
       "2018-05-08    7.056532e-08\n",
       "2018-05-09    9.374539e-05\n",
       "2018-05-10    8.780896e-05\n",
       "2018-05-11    2.915883e-06\n",
       "Name: Close, Length: 17200, dtype: float64"
      ]
     },
     "execution_count": 7,
     "metadata": {},
     "output_type": "execute_result"
    }
   ],
   "source": [
    "# simple novas adape\n",
    "\n"
   ]
  },
  {
   "cell_type": "code",
   "execution_count": null,
   "metadata": {},
   "outputs": [],
   "source": []
  }
 ],
 "metadata": {
  "kernelspec": {
   "display_name": "Python 3",
   "language": "python",
   "name": "python3"
  },
  "language_info": {
   "codemirror_mode": {
    "name": "ipython",
    "version": 3
   },
   "file_extension": ".py",
   "mimetype": "text/x-python",
   "name": "python",
   "nbconvert_exporter": "python",
   "pygments_lexer": "ipython3",
   "version": "3.6.4"
  }
 },
 "nbformat": 4,
 "nbformat_minor": 2
}
