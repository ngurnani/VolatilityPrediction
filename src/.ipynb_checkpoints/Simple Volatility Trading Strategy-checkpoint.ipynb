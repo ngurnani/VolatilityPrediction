{
 "cells": [
  {
   "cell_type": "markdown",
   "metadata": {},
   "source": [
    "# Simple Volatility Trading Strategy\n",
    "\n",
    "Notebook implements a very simple volatility trading strategy found in Ahmad & Wilmott (2005).\n",
    "\n",
    "- Strategy: RV(t+1) - VIX(t) > 0 --> BUY VXX. Vice versa.\n",
    "    - Expect RV(t+1) to be better predictor of VIX(t+1) than VIX(t)\n",
    "- RV(t+1) is the GARCH or NoVaS predicted realized volatility for next period\n",
    "- IV(t) = VIX(t) is the current implied volatility"
   ]
  },
  {
   "cell_type": "code",
   "execution_count": null,
   "metadata": {},
   "outputs": [],
   "source": [
    "%matplotlib inline\n",
    "import numpy as np\n",
    "import pandas as pd\n",
    "import math\n",
    "import matplotlib.pyplot as plt\n",
    "import scipy.stats as stats\n",
    "from scipy.stats import kurtosis\n",
    "from novas import *"
   ]
  },
  {
   "cell_type": "code",
   "execution_count": null,
   "metadata": {},
   "outputs": [],
   "source": [
    "# data read in, adjustment and conversion to returns\n",
    "sp500_data = pd.read_csv(\"./data/sp500index.csv\")\n",
    "sp500_data.index = sp500_data[\"Date\"].astype('datetime64[ns]')\n",
    "sp500_data.drop(columns=['Date'],inplace=True)\n",
    "\n",
    "# convert to returns and normalize returns\n",
    "sp500_returns = sp500_data['Close'].pct_change()[1:]\n",
    "sp500_returns = (sp500_returns - np.mean(sp500_returns))/np.std(sp500_returns) # normalize to have mean 0 std 1"
   ]
  }
 ],
 "metadata": {
  "kernelspec": {
   "display_name": "Python 3",
   "language": "python",
   "name": "python3"
  },
  "language_info": {
   "codemirror_mode": {
    "name": "ipython",
    "version": 3
   },
   "file_extension": ".py",
   "mimetype": "text/x-python",
   "name": "python",
   "nbconvert_exporter": "python",
   "pygments_lexer": "ipython3",
   "version": "3.6.4"
  }
 },
 "nbformat": 4,
 "nbformat_minor": 2
}
